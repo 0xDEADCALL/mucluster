{
 "cells": [
  {
   "cell_type": "markdown",
   "id": "4cc728a3-7427-4f2c-b78f-7a5c89d65c80",
   "metadata": {},
   "source": [
    "# Sample Notebook"
   ]
  },
  {
   "cell_type": "markdown",
   "id": "d7469111-79f3-4c0c-a0ee-f26019dcf589",
   "metadata": {},
   "source": [
    "## Load Environemnt Varibles - AWS Keys"
   ]
  },
  {
   "cell_type": "markdown",
   "id": "ebd975e1-117e-4b2b-bd6c-8b85a6df1f3f",
   "metadata": {},
   "source": [
    "We use %%local to run code inside the local kernel, everything else goes through livy to run on the driver"
   ]
  },
  {
   "cell_type": "code",
   "execution_count": 10,
   "id": "233d9de8-636f-4dac-8037-e553ff5aaefe",
   "metadata": {},
   "outputs": [],
   "source": [
    "%%local\n",
    "from minio import Minio\n",
    "from dotenv import dotenv_values\n",
    "import os\n",
    "\n",
    "config = dotenv_values(\"../.env\")"
   ]
  },
  {
   "cell_type": "code",
   "execution_count": 11,
   "id": "f58bba76-aef0-4fe6-ad68-a0664175181c",
   "metadata": {},
   "outputs": [
    {
     "data": {
      "application/vnd.jupyter.widget-view+json": {
       "model_id": "",
       "version_major": 2,
       "version_minor": 0
      },
      "text/plain": [
       "FloatProgress(value=0.0, bar_style='info', description='Progress:', layout=Layout(height='25px', width='50%'),…"
      ]
     },
     "metadata": {},
     "output_type": "display_data"
    }
   ],
   "source": [
    "# Imports\n",
    "from pyspark.sql import functions as F\n",
    "from pyspark.sql.functions import col, lit"
   ]
  },
  {
   "cell_type": "markdown",
   "id": "664ed052-2f18-401c-bb5c-ebca1caf2cb9",
   "metadata": {},
   "source": [
    "## Read & Perform Basic Operations"
   ]
  },
  {
   "cell_type": "code",
   "execution_count": 12,
   "id": "418eecaf-02b3-40fe-99e9-a967beb7cece",
   "metadata": {},
   "outputs": [
    {
     "data": {
      "application/vnd.jupyter.widget-view+json": {
       "model_id": "",
       "version_major": 2,
       "version_minor": 0
      },
      "text/plain": [
       "FloatProgress(value=0.0, bar_style='info', description='Progress:', layout=Layout(height='25px', width='50%'),…"
      ]
     },
     "metadata": {},
     "output_type": "display_data"
    }
   ],
   "source": [
    "# Read CSV from S3\n",
    "iris_df = spark.read.csv(\"s3a://samples-csv-src/iris.csv\", header=True, inferSchema=True)\n",
    "\n",
    "# Add new column\n",
    "iris_mod_df = iris_df.withColumn(\"new_variaty\", F.substring(\"variety\", 1, 1))"
   ]
  },
  {
   "cell_type": "code",
   "execution_count": 13,
   "id": "0b10637f-e1bb-48c0-9a57-2fddebafd7e3",
   "metadata": {},
   "outputs": [
    {
     "data": {
      "application/vnd.jupyter.widget-view+json": {
       "model_id": "",
       "version_major": 2,
       "version_minor": 0
      },
      "text/plain": [
       "FloatProgress(value=0.0, bar_style='info', description='Progress:', layout=Layout(height='25px', width='50%'),…"
      ]
     },
     "metadata": {},
     "output_type": "display_data"
    },
    {
     "data": {
      "text/html": [
       "<table><tr><th><pre style=\"word-break: unset; background-color: unset;\">slength</pre></th><th><pre style=\"word-break: unset; background-color: unset;\">swidth</pre></th><th><pre style=\"word-break: unset; background-color: unset;\">plength</pre></th><th><pre style=\"word-break: unset; background-color: unset;\">pwidth</pre></th><th><pre style=\"word-break: unset; background-color: unset;\">variety</pre></th></tr><tr><td><pre style=\"word-break: unset; background-color: unset;\">5.1</pre></td><td><pre style=\"word-break: unset; background-color: unset;\">3.5</pre></td><td><pre style=\"word-break: unset; background-color: unset;\">1.4</pre></td><td><pre style=\"word-break: unset; background-color: unset;\">0.2</pre></td><td><pre style=\"word-break: unset; background-color: unset;\">Setosa</pre></td></tr><tr><td><pre style=\"word-break: unset; background-color: unset;\">4.9</pre></td><td><pre style=\"word-break: unset; background-color: unset;\">3.0</pre></td><td><pre style=\"word-break: unset; background-color: unset;\">1.4</pre></td><td><pre style=\"word-break: unset; background-color: unset;\">0.2</pre></td><td><pre style=\"word-break: unset; background-color: unset;\">Setosa</pre></td></tr></table><br /><pre>only showing top 2 rows</pre>"
      ],
      "text/plain": [
       "<IPython.core.display.HTML object>"
      ]
     },
     "metadata": {},
     "output_type": "display_data"
    }
   ],
   "source": [
    "%%pretty\n",
    "iris_df.show(2)"
   ]
  },
  {
   "cell_type": "code",
   "execution_count": 14,
   "id": "c765e068-f345-477d-b9e0-7cadfb513e5b",
   "metadata": {},
   "outputs": [
    {
     "data": {
      "application/vnd.jupyter.widget-view+json": {
       "model_id": "",
       "version_major": 2,
       "version_minor": 0
      },
      "text/plain": [
       "FloatProgress(value=0.0, bar_style='info', description='Progress:', layout=Layout(height='25px', width='50%'),…"
      ]
     },
     "metadata": {},
     "output_type": "display_data"
    },
    {
     "data": {
      "text/html": [
       "<table><tr><th><pre style=\"word-break: unset; background-color: unset;\">slength</pre></th><th><pre style=\"word-break: unset; background-color: unset;\">swidth</pre></th><th><pre style=\"word-break: unset; background-color: unset;\">plength</pre></th><th><pre style=\"word-break: unset; background-color: unset;\">pwidth</pre></th><th><pre style=\"word-break: unset; background-color: unset;\">variety</pre></th><th><pre style=\"word-break: unset; background-color: unset;\">new_variaty</pre></th></tr><tr><td><pre style=\"word-break: unset; background-color: unset;\">5.1</pre></td><td><pre style=\"word-break: unset; background-color: unset;\">3.5</pre></td><td><pre style=\"word-break: unset; background-color: unset;\">1.4</pre></td><td><pre style=\"word-break: unset; background-color: unset;\">0.2</pre></td><td><pre style=\"word-break: unset; background-color: unset;\">Setosa</pre></td><td><pre style=\"word-break: unset; background-color: unset;\">S</pre></td></tr><tr><td><pre style=\"word-break: unset; background-color: unset;\">4.9</pre></td><td><pre style=\"word-break: unset; background-color: unset;\">3.0</pre></td><td><pre style=\"word-break: unset; background-color: unset;\">1.4</pre></td><td><pre style=\"word-break: unset; background-color: unset;\">0.2</pre></td><td><pre style=\"word-break: unset; background-color: unset;\">Setosa</pre></td><td><pre style=\"word-break: unset; background-color: unset;\">S</pre></td></tr></table><br /><pre>only showing top 2 rows</pre>"
      ],
      "text/plain": [
       "<IPython.core.display.HTML object>"
      ]
     },
     "metadata": {},
     "output_type": "display_data"
    }
   ],
   "source": [
    "%%pretty\n",
    "iris_mod_df.show(2)"
   ]
  },
  {
   "cell_type": "markdown",
   "id": "bf5ab834-6900-49b2-b2f4-c557f21e1aca",
   "metadata": {},
   "source": [
    "## Save Dataframe"
   ]
  },
  {
   "cell_type": "markdown",
   "id": "6aa0724f-c39b-462d-8865-ce11b045975a",
   "metadata": {},
   "source": [
    "Create a new bucket and save modified dataframe as parquet and a hive table"
   ]
  },
  {
   "cell_type": "code",
   "execution_count": 15,
   "id": "d9160194-0e50-4344-8489-bd9adf0fc273",
   "metadata": {},
   "outputs": [
    {
     "name": "stdout",
     "output_type": "stream",
     "text": [
      "Bucket Created:  True\n"
     ]
    }
   ],
   "source": [
    "%%local\n",
    "client = Minio(\"minio:10000\", \n",
    "    access_key=config[\"AWS_ACCESS_KEY_ID\"], \n",
    "    secret_key=config[\"AWS_SECRET_ACCESS_KEY\"],\n",
    "    secure=False\n",
    ")\n",
    "\n",
    "# Make bucket\n",
    "if not client.bucket_exists(\"samples-csv-pre\"):\n",
    "    client.make_bucket(\"samples-csv-pre\")\n",
    "\n",
    "print(\"Bucket Created: \", client.bucket_exists(\"samples-csv-pre\"))"
   ]
  },
  {
   "cell_type": "code",
   "execution_count": 16,
   "id": "f190ceba-3140-43da-b791-8fbce534ca43",
   "metadata": {},
   "outputs": [
    {
     "data": {
      "application/vnd.jupyter.widget-view+json": {
       "model_id": "",
       "version_major": 2,
       "version_minor": 0
      },
      "text/plain": [
       "FloatProgress(value=0.0, bar_style='info', description='Progress:', layout=Layout(height='25px', width='50%'),…"
      ]
     },
     "metadata": {},
     "output_type": "display_data"
    }
   ],
   "source": [
    "# Create database\n",
    "spark.sql(\"CREATE DATABASE IF NOT EXISTS samples_pre\")\n",
    "\n",
    "# Save df as hive table\n",
    "(iris_mod_df.write\n",
    "    .format(\"parquet\")\n",
    "    .mode(\"overwrite\")\n",
    "    .option(\"path\", \"s3a://samples-csv-pre/iris_mod\")\n",
    "    .saveAsTable(\"samples_pre.iris_mod\")\n",
    ")"
   ]
  },
  {
   "cell_type": "markdown",
   "id": "32e1c714-2ed2-464d-9ef5-1680c340b773",
   "metadata": {},
   "source": [
    "## Read from Hive Catalog"
   ]
  },
  {
   "cell_type": "code",
   "execution_count": 17,
   "id": "12b6c4a9-1aaf-41a6-8717-77aa7451a1e2",
   "metadata": {},
   "outputs": [
    {
     "data": {
      "application/vnd.jupyter.widget-view+json": {
       "model_id": "",
       "version_major": 2,
       "version_minor": 0
      },
      "text/plain": [
       "FloatProgress(value=0.0, bar_style='info', description='Progress:', layout=Layout(height='25px', width='50%'),…"
      ]
     },
     "metadata": {},
     "output_type": "display_data"
    }
   ],
   "source": [
    "iris_hive_df = spark.sql(\"SELECT * FROM samples_pre.iris_mod\")"
   ]
  },
  {
   "cell_type": "code",
   "execution_count": 18,
   "id": "f194da91-d502-4156-8682-b61943e38f9a",
   "metadata": {},
   "outputs": [
    {
     "data": {
      "application/vnd.jupyter.widget-view+json": {
       "model_id": "",
       "version_major": 2,
       "version_minor": 0
      },
      "text/plain": [
       "FloatProgress(value=0.0, bar_style='info', description='Progress:', layout=Layout(height='25px', width='50%'),…"
      ]
     },
     "metadata": {},
     "output_type": "display_data"
    },
    {
     "data": {
      "text/html": [
       "<table><tr><th><pre style=\"word-break: unset; background-color: unset;\">slength</pre></th><th><pre style=\"word-break: unset; background-color: unset;\">swidth</pre></th><th><pre style=\"word-break: unset; background-color: unset;\">plength</pre></th><th><pre style=\"word-break: unset; background-color: unset;\">pwidth</pre></th><th><pre style=\"word-break: unset; background-color: unset;\">variety</pre></th><th><pre style=\"word-break: unset; background-color: unset;\">new_variaty</pre></th></tr><tr><td><pre style=\"word-break: unset; background-color: unset;\">5.1</pre></td><td><pre style=\"word-break: unset; background-color: unset;\">3.5</pre></td><td><pre style=\"word-break: unset; background-color: unset;\">1.4</pre></td><td><pre style=\"word-break: unset; background-color: unset;\">0.2</pre></td><td><pre style=\"word-break: unset; background-color: unset;\">Setosa</pre></td><td><pre style=\"word-break: unset; background-color: unset;\">S</pre></td></tr><tr><td><pre style=\"word-break: unset; background-color: unset;\">4.9</pre></td><td><pre style=\"word-break: unset; background-color: unset;\">3.0</pre></td><td><pre style=\"word-break: unset; background-color: unset;\">1.4</pre></td><td><pre style=\"word-break: unset; background-color: unset;\">0.2</pre></td><td><pre style=\"word-break: unset; background-color: unset;\">Setosa</pre></td><td><pre style=\"word-break: unset; background-color: unset;\">S</pre></td></tr></table><br /><pre>only showing top 2 rows</pre>"
      ],
      "text/plain": [
       "<IPython.core.display.HTML object>"
      ]
     },
     "metadata": {},
     "output_type": "display_data"
    }
   ],
   "source": [
    "%%pretty\n",
    "iris_hive_df.show(2)"
   ]
  },
  {
   "cell_type": "code",
   "execution_count": null,
   "id": "5c0f8498-90ef-4222-952e-679a158782a1",
   "metadata": {},
   "outputs": [],
   "source": []
  },
  {
   "cell_type": "code",
   "execution_count": null,
   "id": "6e49c1fb-4235-4f5b-bc72-7d29f8fc4658",
   "metadata": {},
   "outputs": [],
   "source": []
  },
  {
   "cell_type": "code",
   "execution_count": null,
   "id": "f07b626c-fdec-402b-8ff1-c66d0a2e1b07",
   "metadata": {},
   "outputs": [],
   "source": []
  }
 ],
 "metadata": {
  "kernelspec": {
   "display_name": "PySpark",
   "language": "python",
   "name": "pysparkkernel"
  },
  "language_info": {
   "codemirror_mode": {
    "name": "python",
    "version": 3
   },
   "file_extension": ".py",
   "mimetype": "text/x-python",
   "name": "pyspark",
   "pygments_lexer": "python3"
  }
 },
 "nbformat": 4,
 "nbformat_minor": 5
}
