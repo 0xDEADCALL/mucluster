{
 "cells": [
  {
   "cell_type": "markdown",
   "id": "4cc728a3-7427-4f2c-b78f-7a5c89d65c80",
   "metadata": {},
   "source": [
    "# Sample Iceberg Notebook"
   ]
  },
  {
   "cell_type": "markdown",
   "id": "d7469111-79f3-4c0c-a0ee-f26019dcf589",
   "metadata": {},
   "source": [
    "## Load Env. Varibles - AWS Keys"
   ]
  },
  {
   "cell_type": "markdown",
   "id": "ebd975e1-117e-4b2b-bd6c-8b85a6df1f3f",
   "metadata": {},
   "source": [
    "We use %%local to run code inside the local kernel, everything else goes through livy to run on the driver"
   ]
  },
  {
   "cell_type": "code",
   "execution_count": 1,
   "id": "233d9de8-636f-4dac-8037-e553ff5aaefe",
   "metadata": {},
   "outputs": [],
   "source": [
    "%%local\n",
    "from minio import Minio\n",
    "from dotenv import dotenv_values\n",
    "import os\n",
    "\n",
    "config = dotenv_values(\"../.env\")"
   ]
  },
  {
   "cell_type": "code",
   "execution_count": 2,
   "id": "f58bba76-aef0-4fe6-ad68-a0664175181c",
   "metadata": {},
   "outputs": [
    {
     "name": "stdout",
     "output_type": "stream",
     "text": [
      "Starting Spark application\n"
     ]
    },
    {
     "data": {
      "text/html": [
       "<table>\n",
       "<tr><th>ID</th><th>YARN Application ID</th><th>Kind</th><th>State</th><th>Spark UI</th><th>Driver log</th><th>User</th><th>Current session?</th></tr><tr><td>1</td><td>None</td><td>pyspark</td><td>idle</td><td></td><td></td><td>None</td><td>✔</td></tr></table>"
      ],
      "text/plain": [
       "<IPython.core.display.HTML object>"
      ]
     },
     "metadata": {},
     "output_type": "display_data"
    },
    {
     "data": {
      "application/vnd.jupyter.widget-view+json": {
       "model_id": "",
       "version_major": 2,
       "version_minor": 0
      },
      "text/plain": [
       "FloatProgress(value=0.0, bar_style='info', description='Progress:', layout=Layout(height='25px', width='50%'),…"
      ]
     },
     "metadata": {},
     "output_type": "display_data"
    },
    {
     "name": "stdout",
     "output_type": "stream",
     "text": [
      "SparkSession available as 'spark'.\n"
     ]
    },
    {
     "data": {
      "application/vnd.jupyter.widget-view+json": {
       "model_id": "",
       "version_major": 2,
       "version_minor": 0
      },
      "text/plain": [
       "FloatProgress(value=0.0, bar_style='info', description='Progress:', layout=Layout(height='25px', width='50%'),…"
      ]
     },
     "metadata": {},
     "output_type": "display_data"
    }
   ],
   "source": [
    "# Imports\n",
    "from pyspark.sql import functions as F\n",
    "from pyspark.sql.functions import col, lit"
   ]
  },
  {
   "cell_type": "markdown",
   "id": "664ed052-2f18-401c-bb5c-ebca1caf2cb9",
   "metadata": {},
   "source": [
    "## Read & Perform Basic Operations"
   ]
  },
  {
   "cell_type": "code",
   "execution_count": 3,
   "id": "418eecaf-02b3-40fe-99e9-a967beb7cece",
   "metadata": {},
   "outputs": [
    {
     "data": {
      "application/vnd.jupyter.widget-view+json": {
       "model_id": "",
       "version_major": 2,
       "version_minor": 0
      },
      "text/plain": [
       "FloatProgress(value=0.0, bar_style='info', description='Progress:', layout=Layout(height='25px', width='50%'),…"
      ]
     },
     "metadata": {},
     "output_type": "display_data"
    }
   ],
   "source": [
    "# Read CSV from S3\n",
    "wine_df = spark.read.csv(\"s3a://samples-csv-src/wine.csv\", header=True, inferSchema=True)"
   ]
  },
  {
   "cell_type": "code",
   "execution_count": 4,
   "id": "0b10637f-e1bb-48c0-9a57-2fddebafd7e3",
   "metadata": {},
   "outputs": [
    {
     "data": {
      "application/vnd.jupyter.widget-view+json": {
       "model_id": "",
       "version_major": 2,
       "version_minor": 0
      },
      "text/plain": [
       "FloatProgress(value=0.0, bar_style='info', description='Progress:', layout=Layout(height='25px', width='50%'),…"
      ]
     },
     "metadata": {},
     "output_type": "display_data"
    },
    {
     "data": {
      "text/html": [
       "<table><tr><th><pre style=\"word-break: unset; background-color: unset;\">rownames</pre></th><th><pre style=\"word-break: unset; background-color: unset;\">country</pre></th><th><pre style=\"word-break: unset; background-color: unset;\">alcohol</pre></th><th><pre style=\"word-break: unset; background-color: unset;\">deaths</pre></th><th><pre style=\"word-break: unset; background-color: unset;\">heart</pre></th><th><pre style=\"word-break: unset; background-color: unset;\">liver</pre></th></tr><tr><td><pre style=\"word-break: unset; background-color: unset;\">1</pre></td><td><pre style=\"word-break: unset; background-color: unset;\">Australia</pre></td><td><pre style=\"word-break: unset; background-color: unset;\">2.5</pre></td><td><pre style=\"word-break: unset; background-color: unset;\">785</pre></td><td><pre style=\"word-break: unset; background-color: unset;\">211</pre></td><td><pre style=\"word-break: unset; background-color: unset;\">15.300000190734863</pre></td></tr><tr><td><pre style=\"word-break: unset; background-color: unset;\">2</pre></td><td><pre style=\"word-break: unset; background-color: unset;\">Austria</pre></td><td><pre style=\"word-break: unset; background-color: unset;\">3.9000000953674316</pre></td><td><pre style=\"word-break: unset; background-color: unset;\">863</pre></td><td><pre style=\"word-break: unset; background-color: unset;\">167</pre></td><td><pre style=\"word-break: unset; background-color: unset;\">45.599998474121094</pre></td></tr></table><br /><pre>only showing top 2 rows</pre>"
      ],
      "text/plain": [
       "<IPython.core.display.HTML object>"
      ]
     },
     "metadata": {},
     "output_type": "display_data"
    }
   ],
   "source": [
    "%%pretty\n",
    "wine_df.show(2)"
   ]
  },
  {
   "cell_type": "markdown",
   "id": "bf5ab834-6900-49b2-b2f4-c557f21e1aca",
   "metadata": {},
   "source": [
    "## Save Dataframe As Iceberg"
   ]
  },
  {
   "cell_type": "markdown",
   "id": "6aa0724f-c39b-462d-8865-ce11b045975a",
   "metadata": {},
   "source": [
    "Create a new bucket and save modified dataframe as parquet and a hive table"
   ]
  },
  {
   "cell_type": "code",
   "execution_count": 5,
   "id": "d9160194-0e50-4344-8489-bd9adf0fc273",
   "metadata": {},
   "outputs": [
    {
     "name": "stdout",
     "output_type": "stream",
     "text": [
      "Bucket Created:  True\n"
     ]
    }
   ],
   "source": [
    "%%local\n",
    "client = Minio(\"minio:10000\", \n",
    "    access_key=config[\"AWS_ACCESS_KEY_ID\"], \n",
    "    secret_key=config[\"AWS_SECRET_ACCESS_KEY\"],\n",
    "    secure=False\n",
    ")\n",
    "\n",
    "# Make bucket\n",
    "if not client.bucket_exists(\"samples-csv-pre\"):\n",
    "    client.make_bucket(\"samples-csv-pre\")\n",
    "\n",
    "print(\"Bucket Created: \", client.bucket_exists(\"samples-csv-pre\"))"
   ]
  },
  {
   "cell_type": "code",
   "execution_count": 6,
   "id": "f190ceba-3140-43da-b791-8fbce534ca43",
   "metadata": {},
   "outputs": [
    {
     "data": {
      "application/vnd.jupyter.widget-view+json": {
       "model_id": "",
       "version_major": 2,
       "version_minor": 0
      },
      "text/plain": [
       "FloatProgress(value=0.0, bar_style='info', description='Progress:', layout=Layout(height='25px', width='50%'),…"
      ]
     },
     "metadata": {},
     "output_type": "display_data"
    }
   ],
   "source": [
    "# Create database\n",
    "spark.sql(\"CREATE DATABASE IF NOT EXISTS samples_pre\")\n",
    "\n",
    "# Save df as hive table\n",
    "(wine_df.write\n",
    "    .format(\"iceberg\")\n",
    "    .mode(\"overwrite\")\n",
    "    .option(\"path\", \"s3a://samples-csv-pre/wine\")\n",
    "    .saveAsTable(\"samples_pre.wine\")\n",
    ")"
   ]
  },
  {
   "cell_type": "markdown",
   "id": "3f1485dc-4153-4b7e-b46a-7678e01cff3f",
   "metadata": {},
   "source": [
    "## Read Iceberg Table"
   ]
  },
  {
   "cell_type": "code",
   "execution_count": 7,
   "id": "7b107e98-e2d7-48bb-a9ed-a2eb1ff19daf",
   "metadata": {},
   "outputs": [
    {
     "data": {
      "application/vnd.jupyter.widget-view+json": {
       "model_id": "",
       "version_major": 2,
       "version_minor": 0
      },
      "text/plain": [
       "FloatProgress(value=0.0, bar_style='info', description='Progress:', layout=Layout(height='25px', width='50%'),…"
      ]
     },
     "metadata": {},
     "output_type": "display_data"
    }
   ],
   "source": [
    "wine_ice_df = spark.read.format(\"iceberg\").load(\"samples_pre.wine\")\n",
    "wine_hive_df = spark.sql(\"SELECT * FROM samples_pre.wine\")"
   ]
  },
  {
   "cell_type": "code",
   "execution_count": 8,
   "id": "6e75c8cd-4fa5-4099-9b99-6afdfe91cf84",
   "metadata": {},
   "outputs": [
    {
     "data": {
      "application/vnd.jupyter.widget-view+json": {
       "model_id": "",
       "version_major": 2,
       "version_minor": 0
      },
      "text/plain": [
       "FloatProgress(value=0.0, bar_style='info', description='Progress:', layout=Layout(height='25px', width='50%'),…"
      ]
     },
     "metadata": {},
     "output_type": "display_data"
    },
    {
     "data": {
      "text/html": [
       "<table><tr><th><pre style=\"word-break: unset; background-color: unset;\">rownames</pre></th><th><pre style=\"word-break: unset; background-color: unset;\">country</pre></th><th><pre style=\"word-break: unset; background-color: unset;\">alcohol</pre></th><th><pre style=\"word-break: unset; background-color: unset;\">deaths</pre></th><th><pre style=\"word-break: unset; background-color: unset;\">heart</pre></th><th><pre style=\"word-break: unset; background-color: unset;\">liver</pre></th></tr><tr><td><pre style=\"word-break: unset; background-color: unset;\">1</pre></td><td><pre style=\"word-break: unset; background-color: unset;\">Australia</pre></td><td><pre style=\"word-break: unset; background-color: unset;\">2.5</pre></td><td><pre style=\"word-break: unset; background-color: unset;\">785</pre></td><td><pre style=\"word-break: unset; background-color: unset;\">211</pre></td><td><pre style=\"word-break: unset; background-color: unset;\">15.300000190734863</pre></td></tr><tr><td><pre style=\"word-break: unset; background-color: unset;\">2</pre></td><td><pre style=\"word-break: unset; background-color: unset;\">Austria</pre></td><td><pre style=\"word-break: unset; background-color: unset;\">3.9000000953674316</pre></td><td><pre style=\"word-break: unset; background-color: unset;\">863</pre></td><td><pre style=\"word-break: unset; background-color: unset;\">167</pre></td><td><pre style=\"word-break: unset; background-color: unset;\">45.599998474121094</pre></td></tr></table><br /><pre>only showing top 2 rows</pre>"
      ],
      "text/plain": [
       "<IPython.core.display.HTML object>"
      ]
     },
     "metadata": {},
     "output_type": "display_data"
    }
   ],
   "source": [
    "%%pretty\n",
    "wine_ice_df.show(2)"
   ]
  },
  {
   "cell_type": "code",
   "execution_count": 9,
   "id": "5b86eddc-7179-46f6-94b6-c536eab84214",
   "metadata": {},
   "outputs": [
    {
     "data": {
      "application/vnd.jupyter.widget-view+json": {
       "model_id": "",
       "version_major": 2,
       "version_minor": 0
      },
      "text/plain": [
       "FloatProgress(value=0.0, bar_style='info', description='Progress:', layout=Layout(height='25px', width='50%'),…"
      ]
     },
     "metadata": {},
     "output_type": "display_data"
    },
    {
     "data": {
      "text/html": [
       "<table><tr><th><pre style=\"word-break: unset; background-color: unset;\">rownames</pre></th><th><pre style=\"word-break: unset; background-color: unset;\">country</pre></th><th><pre style=\"word-break: unset; background-color: unset;\">alcohol</pre></th><th><pre style=\"word-break: unset; background-color: unset;\">deaths</pre></th><th><pre style=\"word-break: unset; background-color: unset;\">heart</pre></th><th><pre style=\"word-break: unset; background-color: unset;\">liver</pre></th></tr><tr><td><pre style=\"word-break: unset; background-color: unset;\">1</pre></td><td><pre style=\"word-break: unset; background-color: unset;\">Australia</pre></td><td><pre style=\"word-break: unset; background-color: unset;\">2.5</pre></td><td><pre style=\"word-break: unset; background-color: unset;\">785</pre></td><td><pre style=\"word-break: unset; background-color: unset;\">211</pre></td><td><pre style=\"word-break: unset; background-color: unset;\">15.300000190734863</pre></td></tr><tr><td><pre style=\"word-break: unset; background-color: unset;\">2</pre></td><td><pre style=\"word-break: unset; background-color: unset;\">Austria</pre></td><td><pre style=\"word-break: unset; background-color: unset;\">3.9000000953674316</pre></td><td><pre style=\"word-break: unset; background-color: unset;\">863</pre></td><td><pre style=\"word-break: unset; background-color: unset;\">167</pre></td><td><pre style=\"word-break: unset; background-color: unset;\">45.599998474121094</pre></td></tr></table><br /><pre>only showing top 2 rows</pre>"
      ],
      "text/plain": [
       "<IPython.core.display.HTML object>"
      ]
     },
     "metadata": {},
     "output_type": "display_data"
    }
   ],
   "source": [
    "%%pretty\n",
    "wine_hive_df.show(2)"
   ]
  },
  {
   "cell_type": "markdown",
   "id": "32e1c714-2ed2-464d-9ef5-1680c340b773",
   "metadata": {},
   "source": [
    "## Alter Schema"
   ]
  },
  {
   "cell_type": "code",
   "execution_count": 10,
   "id": "e766eb0b-e63a-4115-a509-e538ca743deb",
   "metadata": {},
   "outputs": [
    {
     "data": {
      "application/vnd.jupyter.widget-view+json": {
       "model_id": "",
       "version_major": 2,
       "version_minor": 0
      },
      "text/plain": [
       "FloatProgress(value=0.0, bar_style='info', description='Progress:', layout=Layout(height='25px', width='50%'),…"
      ]
     },
     "metadata": {},
     "output_type": "display_data"
    },
    {
     "data": {
      "application/vnd.jupyter.widget-view+json": {
       "model_id": "5b3c7cb9c5fc460dbea7d0f36eb8923c",
       "version_major": 2,
       "version_minor": 0
      },
      "text/plain": [
       "VBox(children=(HBox(), EncodingWidget(children=(VBox(children=(HTML(value='Encoding:'), Dropdown(description='…"
      ]
     },
     "metadata": {},
     "output_type": "display_data"
    },
    {
     "data": {
      "application/vnd.jupyter.widget-view+json": {
       "model_id": "22c546ceba6d4aa0b9b81bb19742fe38",
       "version_major": 2,
       "version_minor": 0
      },
      "text/plain": [
       "Output()"
      ]
     },
     "metadata": {},
     "output_type": "display_data"
    }
   ],
   "source": [
    "%%sql\n",
    "ALTER TABLE samples_pre.wine ADD COLUMNS (\n",
    "    new_col STRING COMMENT 'Yaaaay'\n",
    ")"
   ]
  },
  {
   "cell_type": "code",
   "execution_count": 11,
   "id": "44bc0564-5293-46b7-8400-3aab0abd2e88",
   "metadata": {},
   "outputs": [
    {
     "data": {
      "application/vnd.jupyter.widget-view+json": {
       "model_id": "",
       "version_major": 2,
       "version_minor": 0
      },
      "text/plain": [
       "FloatProgress(value=0.0, bar_style='info', description='Progress:', layout=Layout(height='25px', width='50%'),…"
      ]
     },
     "metadata": {},
     "output_type": "display_data"
    },
    {
     "name": "stdout",
     "output_type": "stream",
     "text": [
      "root\n",
      " |-- rownames: integer (nullable = true)\n",
      " |-- country: string (nullable = true)\n",
      " |-- alcohol: double (nullable = true)\n",
      " |-- deaths: integer (nullable = true)\n",
      " |-- heart: integer (nullable = true)\n",
      " |-- liver: double (nullable = true)\n",
      " |-- new_col: string (nullable = true)"
     ]
    }
   ],
   "source": [
    "spark.read.format(\"iceberg\").load(\"samples_pre.wine\").printSchema()"
   ]
  },
  {
   "cell_type": "markdown",
   "id": "c3622657-34b9-4b58-9f72-4bfbfc4e68c4",
   "metadata": {},
   "source": [
    "No rewrite has been performed: only one snapshot_id"
   ]
  },
  {
   "cell_type": "code",
   "execution_count": 12,
   "id": "63fc9f2a-414f-4354-9874-444f84acd045",
   "metadata": {},
   "outputs": [
    {
     "data": {
      "application/vnd.jupyter.widget-view+json": {
       "model_id": "",
       "version_major": 2,
       "version_minor": 0
      },
      "text/plain": [
       "FloatProgress(value=0.0, bar_style='info', description='Progress:', layout=Layout(height='25px', width='50%'),…"
      ]
     },
     "metadata": {},
     "output_type": "display_data"
    },
    {
     "data": {
      "application/vnd.jupyter.widget-view+json": {
       "model_id": "78f4d5e194a5419085fce6c1dc2ee92b",
       "version_major": 2,
       "version_minor": 0
      },
      "text/plain": [
       "VBox(children=(HBox(children=(HTML(value='Type:'), Button(description='Table', layout=Layout(width='70px'), st…"
      ]
     },
     "metadata": {},
     "output_type": "display_data"
    },
    {
     "data": {
      "application/vnd.jupyter.widget-view+json": {
       "model_id": "eed6c10a42224387a9068af57dd72e09",
       "version_major": 2,
       "version_minor": 0
      },
      "text/plain": [
       "Output()"
      ]
     },
     "metadata": {},
     "output_type": "display_data"
    }
   ],
   "source": [
    "%%sql\n",
    "SELECT * FROM samples_pre.wine.snapshots"
   ]
  },
  {
   "cell_type": "markdown",
   "id": "ae4f6c07-211b-4a22-9ec0-9a21f927e196",
   "metadata": {},
   "source": [
    "## ACID Transactions"
   ]
  },
  {
   "cell_type": "code",
   "execution_count": 13,
   "id": "e10140c4-b216-427d-8fc0-9f51d77790f0",
   "metadata": {},
   "outputs": [
    {
     "data": {
      "application/vnd.jupyter.widget-view+json": {
       "model_id": "",
       "version_major": 2,
       "version_minor": 0
      },
      "text/plain": [
       "FloatProgress(value=0.0, bar_style='info', description='Progress:', layout=Layout(height='25px', width='50%'),…"
      ]
     },
     "metadata": {},
     "output_type": "display_data"
    },
    {
     "data": {
      "application/vnd.jupyter.widget-view+json": {
       "model_id": "5cfb9f6dd6914b6cb1e5cd0ec1afcfb1",
       "version_major": 2,
       "version_minor": 0
      },
      "text/plain": [
       "VBox(children=(HBox(), EncodingWidget(children=(VBox(children=(HTML(value='Encoding:'), Dropdown(description='…"
      ]
     },
     "metadata": {},
     "output_type": "display_data"
    },
    {
     "data": {
      "application/vnd.jupyter.widget-view+json": {
       "model_id": "b2d5568503d049c48c5df8091ddc9593",
       "version_major": 2,
       "version_minor": 0
      },
      "text/plain": [
       "Output()"
      ]
     },
     "metadata": {},
     "output_type": "display_data"
    }
   ],
   "source": [
    "%%sql\n",
    "UPDATE samples_pre.wine SET new_col = 'foo';"
   ]
  },
  {
   "cell_type": "code",
   "execution_count": 14,
   "id": "c4bc7b13-764a-472d-b88b-2cf81d7a9267",
   "metadata": {},
   "outputs": [
    {
     "data": {
      "application/vnd.jupyter.widget-view+json": {
       "model_id": "",
       "version_major": 2,
       "version_minor": 0
      },
      "text/plain": [
       "FloatProgress(value=0.0, bar_style='info', description='Progress:', layout=Layout(height='25px', width='50%'),…"
      ]
     },
     "metadata": {},
     "output_type": "display_data"
    },
    {
     "data": {
      "application/vnd.jupyter.widget-view+json": {
       "model_id": "5f544b6e6be0413babd31b33ee2829c5",
       "version_major": 2,
       "version_minor": 0
      },
      "text/plain": [
       "VBox(children=(HBox(), EncodingWidget(children=(VBox(children=(HTML(value='Encoding:'), Dropdown(description='…"
      ]
     },
     "metadata": {},
     "output_type": "display_data"
    },
    {
     "data": {
      "application/vnd.jupyter.widget-view+json": {
       "model_id": "c88b3611901e49d898b8249518de6277",
       "version_major": 2,
       "version_minor": 0
      },
      "text/plain": [
       "Output()"
      ]
     },
     "metadata": {},
     "output_type": "display_data"
    }
   ],
   "source": [
    "%%sql\n",
    "INSERT INTO samples_pre.wine VALUES (777, NULL, NULL, NULL, NULL, NULL, NULL);"
   ]
  },
  {
   "cell_type": "code",
   "execution_count": 15,
   "id": "f42de134-26d2-4b1d-afea-a1bbf0c1716c",
   "metadata": {},
   "outputs": [
    {
     "data": {
      "application/vnd.jupyter.widget-view+json": {
       "model_id": "",
       "version_major": 2,
       "version_minor": 0
      },
      "text/plain": [
       "FloatProgress(value=0.0, bar_style='info', description='Progress:', layout=Layout(height='25px', width='50%'),…"
      ]
     },
     "metadata": {},
     "output_type": "display_data"
    },
    {
     "data": {
      "application/vnd.jupyter.widget-view+json": {
       "model_id": "cbe37280cbdc436ba8814b6c948406e9",
       "version_major": 2,
       "version_minor": 0
      },
      "text/plain": [
       "VBox(children=(HBox(), EncodingWidget(children=(VBox(children=(HTML(value='Encoding:'), Dropdown(description='…"
      ]
     },
     "metadata": {},
     "output_type": "display_data"
    },
    {
     "data": {
      "application/vnd.jupyter.widget-view+json": {
       "model_id": "627fa60ccb6348f285dc695cf3e66987",
       "version_major": 2,
       "version_minor": 0
      },
      "text/plain": [
       "Output()"
      ]
     },
     "metadata": {},
     "output_type": "display_data"
    }
   ],
   "source": [
    "%%sql\n",
    "DELETE FROM samples_pre.wine WHERE rownames = 1;"
   ]
  },
  {
   "cell_type": "code",
   "execution_count": 16,
   "id": "13644d6b-cd81-4ac1-a218-a6e12da7e90a",
   "metadata": {},
   "outputs": [
    {
     "data": {
      "application/vnd.jupyter.widget-view+json": {
       "model_id": "",
       "version_major": 2,
       "version_minor": 0
      },
      "text/plain": [
       "FloatProgress(value=0.0, bar_style='info', description='Progress:', layout=Layout(height='25px', width='50%'),…"
      ]
     },
     "metadata": {},
     "output_type": "display_data"
    },
    {
     "data": {
      "application/vnd.jupyter.widget-view+json": {
       "model_id": "771db69df8504027922c83c22145482a",
       "version_major": 2,
       "version_minor": 0
      },
      "text/plain": [
       "VBox(children=(HBox(children=(HTML(value='Type:'), Button(description='Table', layout=Layout(width='70px'), st…"
      ]
     },
     "metadata": {},
     "output_type": "display_data"
    },
    {
     "data": {
      "application/vnd.jupyter.widget-view+json": {
       "model_id": "edd79ab4c5cf49398e055836cf0ac858",
       "version_major": 2,
       "version_minor": 0
      },
      "text/plain": [
       "Output()"
      ]
     },
     "metadata": {},
     "output_type": "display_data"
    }
   ],
   "source": [
    "%%sql\n",
    "SELECT * FROM samples_pre.wine WHERE rownames IN (1, 777)"
   ]
  },
  {
   "cell_type": "code",
   "execution_count": 17,
   "id": "c1442511-1069-4122-97be-500bc8d7c72c",
   "metadata": {},
   "outputs": [
    {
     "data": {
      "application/vnd.jupyter.widget-view+json": {
       "model_id": "",
       "version_major": 2,
       "version_minor": 0
      },
      "text/plain": [
       "FloatProgress(value=0.0, bar_style='info', description='Progress:', layout=Layout(height='25px', width='50%'),…"
      ]
     },
     "metadata": {},
     "output_type": "display_data"
    },
    {
     "data": {
      "application/vnd.jupyter.widget-view+json": {
       "model_id": "734fc08a22a1475599d9367ea0ba2c70",
       "version_major": 2,
       "version_minor": 0
      },
      "text/plain": [
       "VBox(children=(HBox(children=(HTML(value='Type:'), Button(description='Table', layout=Layout(width='70px'), st…"
      ]
     },
     "metadata": {},
     "output_type": "display_data"
    },
    {
     "data": {
      "application/vnd.jupyter.widget-view+json": {
       "model_id": "aafa3dd6f0714204addd8916f80d8a0b",
       "version_major": 2,
       "version_minor": 0
      },
      "text/plain": [
       "Output()"
      ]
     },
     "metadata": {},
     "output_type": "display_data"
    }
   ],
   "source": [
    "%%sql\n",
    "SELECT * FROM samples_pre.wine.snapshots"
   ]
  },
  {
   "cell_type": "markdown",
   "id": "e5f71382-5d74-4a2c-b0c4-75d591d5e43c",
   "metadata": {},
   "source": [
    "## Time Travel"
   ]
  },
  {
   "cell_type": "code",
   "execution_count": 20,
   "id": "e967e170-4309-4a04-b922-ef25af20100f",
   "metadata": {},
   "outputs": [
    {
     "data": {
      "application/vnd.jupyter.widget-view+json": {
       "model_id": "",
       "version_major": 2,
       "version_minor": 0
      },
      "text/plain": [
       "FloatProgress(value=0.0, bar_style='info', description='Progress:', layout=Layout(height='25px', width='50%'),…"
      ]
     },
     "metadata": {},
     "output_type": "display_data"
    },
    {
     "data": {
      "application/vnd.jupyter.widget-view+json": {
       "model_id": "3d2601af82b64faa9f9ccf18ea8a013e",
       "version_major": 2,
       "version_minor": 0
      },
      "text/plain": [
       "VBox(children=(HBox(children=(HTML(value='Type:'), Button(description='Table', layout=Layout(width='70px'), st…"
      ]
     },
     "metadata": {},
     "output_type": "display_data"
    },
    {
     "data": {
      "application/vnd.jupyter.widget-view+json": {
       "model_id": "e361065db55b4af79f43c37b6f2ff327",
       "version_major": 2,
       "version_minor": 0
      },
      "text/plain": [
       "Output()"
      ]
     },
     "metadata": {},
     "output_type": "display_data"
    }
   ],
   "source": [
    "%%sql\n",
    "SELECT * FROM samples_pre.wine VERSION AS OF {YOUR SNAPSHOT ID} LIMIT 5;"
   ]
  },
  {
   "cell_type": "code",
   "execution_count": 21,
   "id": "cc4ef604-9527-4c3d-848d-e5b69e5d2124",
   "metadata": {},
   "outputs": [
    {
     "data": {
      "application/vnd.jupyter.widget-view+json": {
       "model_id": "",
       "version_major": 2,
       "version_minor": 0
      },
      "text/plain": [
       "FloatProgress(value=0.0, bar_style='info', description='Progress:', layout=Layout(height='25px', width='50%'),…"
      ]
     },
     "metadata": {},
     "output_type": "display_data"
    },
    {
     "name": "stdout",
     "output_type": "stream",
     "text": [
      "root\n",
      " |-- rownames: integer (nullable = true)\n",
      " |-- country: string (nullable = true)\n",
      " |-- alcohol: double (nullable = true)\n",
      " |-- deaths: integer (nullable = true)\n",
      " |-- heart: integer (nullable = true)\n",
      " |-- liver: double (nullable = true)"
     ]
    }
   ],
   "source": [
    "spark.read.option(\"snapshot-id\", {YOUR SNAPSHOT ID}).format(\"iceberg\").load(\"samples_pre.wine\").printSchema()"
   ]
  }
 ],
 "metadata": {
  "kernelspec": {
   "display_name": "PySpark",
   "language": "python",
   "name": "pysparkkernel"
  },
  "language_info": {
   "codemirror_mode": {
    "name": "python",
    "version": 3
   },
   "file_extension": ".py",
   "mimetype": "text/x-python",
   "name": "pyspark",
   "pygments_lexer": "python3"
  }
 },
 "nbformat": 4,
 "nbformat_minor": 5
}
